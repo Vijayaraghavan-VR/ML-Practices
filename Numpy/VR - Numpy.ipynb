{
 "cells": [
  {
   "cell_type": "code",
   "execution_count": 1,
   "metadata": {},
   "outputs": [],
   "source": [
    "import numpy as np #Numpy is time & space-efficient multidimensional arrays"
   ]
  },
  {
   "cell_type": "code",
   "execution_count": 2,
   "metadata": {},
   "outputs": [],
   "source": [
    "numpy_array = np.array([1,2,3]) #1D array"
   ]
  },
  {
   "cell_type": "code",
   "execution_count": 3,
   "metadata": {
    "tags": []
   },
   "outputs": [
    {
     "output_type": "stream",
     "name": "stdout",
     "text": "<type 'numpy.ndarray'>\n"
    }
   ],
   "source": [
    "print(type(numpy_array))"
   ]
  },
  {
   "cell_type": "code",
   "execution_count": 4,
   "metadata": {
    "tags": []
   },
   "outputs": [
    {
     "output_type": "stream",
     "name": "stdout",
     "text": "(3L,)\n"
    }
   ],
   "source": [
    "print(numpy_array.shape)"
   ]
  },
  {
   "cell_type": "code",
   "execution_count": 5,
   "metadata": {
    "tags": []
   },
   "outputs": [
    {
     "output_type": "stream",
     "name": "stdout",
     "text": "2\n"
    }
   ],
   "source": [
    "print(numpy_array[1])"
   ]
  },
  {
   "cell_type": "code",
   "execution_count": 6,
   "metadata": {},
   "outputs": [],
   "source": [
    "numpy_array[0] = 4"
   ]
  },
  {
   "cell_type": "code",
   "execution_count": 7,
   "metadata": {
    "tags": []
   },
   "outputs": [
    {
     "output_type": "stream",
     "name": "stdout",
     "text": "[4 2 3]\n"
    }
   ],
   "source": [
    "print(numpy_array)"
   ]
  },
  {
   "cell_type": "code",
   "execution_count": 8,
   "metadata": {},
   "outputs": [],
   "source": [
    "vijay = np.array([[1,2,3],[4,5,6]]) #2D array"
   ]
  },
  {
   "cell_type": "code",
   "execution_count": 9,
   "metadata": {
    "tags": []
   },
   "outputs": [
    {
     "output_type": "stream",
     "name": "stdout",
     "text": "[[1 2 3]\n [4 5 6]]\n"
    }
   ],
   "source": [
    "print(vijay)"
   ]
  },
  {
   "cell_type": "code",
   "execution_count": 10,
   "metadata": {
    "tags": []
   },
   "outputs": [
    {
     "output_type": "stream",
     "name": "stdout",
     "text": "(2L, 3L)\n"
    }
   ],
   "source": [
    "print(vijay.shape)"
   ]
  },
  {
   "cell_type": "code",
   "execution_count": 11,
   "metadata": {},
   "outputs": [],
   "source": [
    "rag = np.zeros((2,2)) #Zero matrix"
   ]
  },
  {
   "cell_type": "code",
   "execution_count": 12,
   "metadata": {
    "tags": []
   },
   "outputs": [
    {
     "output_type": "stream",
     "name": "stdout",
     "text": "[[0. 0.]\n [0. 0.]]\n"
    }
   ],
   "source": [
    "print(rag)"
   ]
  },
  {
   "cell_type": "code",
   "execution_count": 20,
   "metadata": {},
   "outputs": [],
   "source": [
    "one = np.ones((2,3)) #One matrix"
   ]
  },
  {
   "cell_type": "code",
   "execution_count": 14,
   "metadata": {
    "tags": []
   },
   "outputs": [
    {
     "output_type": "stream",
     "name": "stdout",
     "text": "[[1. 1. 1.]\n [1. 1. 1.]]\n"
    }
   ],
   "source": [
    "print(one)"
   ]
  },
  {
   "cell_type": "code",
   "execution_count": 18,
   "metadata": {},
   "outputs": [],
   "source": [
    "identity = np.eye(3,3) #Identity matrix"
   ]
  },
  {
   "cell_type": "code",
   "execution_count": 16,
   "metadata": {
    "tags": []
   },
   "outputs": [
    {
     "output_type": "stream",
     "name": "stdout",
     "text": "[[1. 0. 0.]\n [0. 1. 0.]\n [0. 0. 1.]]\n"
    }
   ],
   "source": [
    "print(identity)"
   ]
  },
  {
   "cell_type": "code",
   "execution_count": 23,
   "metadata": {
    "tags": []
   },
   "outputs": [
    {
     "output_type": "execute_result",
     "data": {
      "text/plain": "array([[0.90109554, 0.59803443],\n       [0.63234288, 0.10543253]])"
     },
     "metadata": {},
     "execution_count": 23
    }
   ],
   "source": [
    "np.random.random((2,2))"
   ]
  },
  {
   "cell_type": "code",
   "execution_count": 24,
   "metadata": {},
   "outputs": [
    {
     "output_type": "execute_result",
     "data": {
      "text/plain": "5"
     },
     "metadata": {},
     "execution_count": 24
    }
   ],
   "source": [
    "np.random.randint(3,9)"
   ]
  },
  {
   "cell_type": "code",
   "execution_count": 37,
   "metadata": {},
   "outputs": [],
   "source": [
    "vjr = np.array([[1,2,3,5],[3,5,6,7],[6,7,2,8]])"
   ]
  },
  {
   "cell_type": "code",
   "execution_count": 38,
   "metadata": {
    "tags": []
   },
   "outputs": [
    {
     "output_type": "stream",
     "name": "stdout",
     "text": "[[1 2 3 5]\n [3 5 6 7]\n [6 7 2 8]]\n"
    }
   ],
   "source": [
    "print(vjr)"
   ]
  },
  {
   "cell_type": "code",
   "execution_count": 39,
   "metadata": {
    "tags": []
   },
   "outputs": [
    {
     "output_type": "stream",
     "name": "stdout",
     "text": "(3L, 4L)\n"
    }
   ],
   "source": [
    "print(vjr.shape)"
   ]
  },
  {
   "cell_type": "code",
   "execution_count": 40,
   "metadata": {},
   "outputs": [],
   "source": [
    "sliced = vjr[:2,2:] #1st co-ordinate is row & 2nd co-ordinate is column"
   ]
  },
  {
   "cell_type": "code",
   "execution_count": 41,
   "metadata": {
    "tags": []
   },
   "outputs": [
    {
     "output_type": "stream",
     "name": "stdout",
     "text": "[[3 5]\n [6 7]]\n"
    }
   ],
   "source": [
    "print(sliced)"
   ]
  },
  {
   "cell_type": "code",
   "execution_count": 42,
   "metadata": {},
   "outputs": [
    {
     "output_type": "execute_result",
     "data": {
      "text/plain": "6"
     },
     "metadata": {},
     "execution_count": 42
    }
   ],
   "source": [
    "vjr[1,2] #here it's value is 5"
   ]
  },
  {
   "cell_type": "code",
   "execution_count": 43,
   "metadata": {},
   "outputs": [],
   "source": [
    "sliced[1,0]=1000"
   ]
  },
  {
   "cell_type": "code",
   "execution_count": 44,
   "metadata": {},
   "outputs": [
    {
     "output_type": "execute_result",
     "data": {
      "text/plain": "1000"
     },
     "metadata": {},
     "execution_count": 44
    }
   ],
   "source": [
    "vjr[1,2] #here it's value is 1000 because the value is sliced and the value is changed too!"
   ]
  },
  {
   "cell_type": "code",
   "execution_count": 45,
   "metadata": {
    "tags": []
   },
   "outputs": [
    {
     "output_type": "stream",
     "name": "stdout",
     "text": "[[ 1  2  3  4]\n [ 5  6  7  8]\n [ 9 10 11 12]]\n"
    }
   ],
   "source": [
    "raghav = np.array([[1,2,3,4],[5,6,7,8],[9,10,11,12]])\n",
    "print(raghav)"
   ]
  },
  {
   "cell_type": "code",
   "execution_count": 9,
   "metadata": {
    "tags": []
   },
   "outputs": [
    {
     "output_type": "stream",
     "name": "stdout",
     "text": "(array([5, 6, 7, 8]), (4L,))\n(array([[5, 6, 7, 8]]), (1L, 4L))\n"
    }
   ],
   "source": [
    "row_array = raghav[1,:]\n",
    "Row_array = raghav[1:2,:]\n",
    "print(row_array,row_array.shape)\n",
    "print(Row_array,Row_array.shape)"
   ]
  },
  {
   "cell_type": "code",
   "execution_count": 11,
   "metadata": {
    "tags": []
   },
   "outputs": [
    {
     "output_type": "stream",
     "name": "stdout",
     "text": "(array([ 2,  6, 10]), (3L,))\n(array([[ 2],\n       [ 6],\n       [10]]), (3L, 1L))\n"
    }
   ],
   "source": [
    "col_array = raghav[:,1]\n",
    "Col_array =raghav[:,1:2]\n",
    "print(col_array,col_array.shape)\n",
    "print(Col_array,Col_array.shape)"
   ]
  },
  {
   "cell_type": "code",
   "execution_count": 12,
   "metadata": {},
   "outputs": [],
   "source": [
    "row_indices = np.array([0,1,2,0])\n",
    "col_indices = np.arange(4)"
   ]
  },
  {
   "cell_type": "code",
   "execution_count": 16,
   "metadata": {
    "tags": []
   },
   "outputs": [
    {
     "output_type": "stream",
     "name": "stdout",
     "text": "(0, 0)\n(1, 1)\n(2, 2)\n(0, 3)\n"
    }
   ],
   "source": [
    "for row,col in zip(row_indices, col_indices):\n",
    "    print(row,col)"
   ]
  },
  {
   "cell_type": "code",
   "execution_count": 18,
   "metadata": {
    "tags": []
   },
   "outputs": [
    {
     "output_type": "stream",
     "name": "stdout",
     "text": "[ 1  6 11  4]\n"
    }
   ],
   "source": [
    "print(raghav[row_indices,col_indices])"
   ]
  },
  {
   "cell_type": "code",
   "execution_count": 19,
   "metadata": {
    "tags": []
   },
   "outputs": [
    {
     "output_type": "stream",
     "name": "stdout",
     "text": "[[1001    2    3 1004]\n [   5 1006    7    8]\n [   9   10 1011   12]]\n"
    }
   ],
   "source": [
    "raghav[row_indices,col_indices]+=1000\n",
    "print(raghav)"
   ]
  },
  {
   "cell_type": "code",
   "execution_count": 20,
   "metadata": {
    "tags": []
   },
   "outputs": [
    {
     "output_type": "stream",
     "name": "stdout",
     "text": "[[11 12]\n [21 22]\n [31 32]]\n"
    }
   ],
   "source": [
    "vj = np.array([[11,12],[21,22],[31,32]])\n",
    "print(vj)"
   ]
  },
  {
   "cell_type": "code",
   "execution_count": 21,
   "metadata": {
    "tags": []
   },
   "outputs": [
    {
     "output_type": "stream",
     "name": "stdout",
     "text": "[[False False]\n [ True  True]\n [ True  True]]\n"
    }
   ],
   "source": [
    "filter = (vj > 15)\n",
    "print(filter)"
   ]
  },
  {
   "cell_type": "code",
   "execution_count": 23,
   "metadata": {
    "tags": []
   },
   "outputs": [
    {
     "output_type": "stream",
     "name": "stdout",
     "text": "[21 22 31 32]\n"
    }
   ],
   "source": [
    "print(vj[filter])#Displaing the elements which meets the criteria"
   ]
  },
  {
   "cell_type": "code",
   "execution_count": 24,
   "metadata": {},
   "outputs": [
    {
     "output_type": "execute_result",
     "data": {
      "text/plain": "array([12, 22, 32])"
     },
     "metadata": {},
     "execution_count": 24
    }
   ],
   "source": [
    "vj[(vj % 2 == 0)]#It show the only elment that are even.The condition can be given in the position of the array."
   ]
  },
  {
   "cell_type": "code",
   "execution_count": 25,
   "metadata": {
    "tags": []
   },
   "outputs": [
    {
     "output_type": "stream",
     "name": "stdout",
     "text": "[[  11 1012]\n [  21 1022]\n [  31 1032]]\n"
    }
   ],
   "source": [
    "vj[(vj % 2 == 0)] += 1000\n",
    "print(vj) # By filtering and also we can add values to to the filtered items."
   ]
  },
  {
   "cell_type": "code",
   "execution_count": 26,
   "metadata": {
    "tags": []
   },
   "outputs": [
    {
     "output_type": "stream",
     "name": "stdout",
     "text": "int32\n"
    }
   ],
   "source": [
    "ex1 = np.array([11,12]) #Python assigns the datatype\n",
    "print(ex1.dtype)"
   ]
  },
  {
   "cell_type": "code",
   "execution_count": 3,
   "metadata": {
    "tags": []
   },
   "outputs": [
    {
     "output_type": "stream",
     "name": "stdout",
     "text": "int64\n[2 4]\n"
    }
   ],
   "source": [
    "ex2 = np.array([2.4,4.7],dtype = np.int64)\n",
    "print(ex2.dtype)\n",
    "print(ex2)"
   ]
  },
  {
   "cell_type": "code",
   "execution_count": 29,
   "metadata": {
    "tags": []
   },
   "outputs": [
    {
     "output_type": "stream",
     "name": "stdout",
     "text": "[8. 9.]\n"
    }
   ],
   "source": [
    "ex3 = np.array([8,9],dtype=np.float64)\n",
    "print(ex3) # We can also assign the "
   ]
  },
  {
   "cell_type": "code",
   "execution_count": 33,
   "metadata": {
    "tags": []
   },
   "outputs": [
    {
     "output_type": "stream",
     "name": "stdout",
     "text": "[[111 112]\n [121 122]]\n\n\n[[211.1 212.1]\n [221.1 222.1]]\n"
    }
   ],
   "source": [
    "x = np.array([[111,112],[121,122]],dtype = np.int)\n",
    "y = np.array([[211.1,212.1],[221.1,222.1]],dtype = np.float64)\n",
    "\n",
    "print(x)\n",
    "print(\"\\n\")\n",
    "print(y)"
   ]
  },
  {
   "cell_type": "code",
   "execution_count": 34,
   "metadata": {
    "tags": []
   },
   "outputs": [
    {
     "output_type": "stream",
     "name": "stdout",
     "text": "[[322.1 324.1]\n [342.1 344.1]]\n"
    }
   ],
   "source": [
    "print(x+y) #Adding content inside the elements"
   ]
  },
  {
   "cell_type": "code",
   "execution_count": 35,
   "metadata": {
    "tags": []
   },
   "outputs": [
    {
     "output_type": "stream",
     "name": "stdout",
     "text": "[[322.1 324.1]\n [342.1 344.1]]\n"
    }
   ],
   "source": [
    "print(np.add(x,y))#Adding using add function"
   ]
  },
  {
   "cell_type": "code",
   "execution_count": 36,
   "metadata": {
    "tags": []
   },
   "outputs": [
    {
     "output_type": "stream",
     "name": "stdout",
     "text": "[[-100.1 -100.1]\n [-100.1 -100.1]]\n"
    }
   ],
   "source": [
    "print(np.subtract(x,y))# Subracting using subract function"
   ]
  },
  {
   "cell_type": "code",
   "execution_count": 37,
   "metadata": {
    "tags": []
   },
   "outputs": [
    {
     "output_type": "stream",
     "name": "stdout",
     "text": "[[23432.1 23755.2]\n [26753.1 27096.2]]\n"
    }
   ],
   "source": [
    "print(np.multiply(x,y)) #Multiply using multiply function"
   ]
  },
  {
   "cell_type": "code",
   "execution_count": 38,
   "metadata": {
    "tags": []
   },
   "outputs": [
    {
     "output_type": "stream",
     "name": "stdout",
     "text": "[[10.53565375 10.58300524]\n [11.         11.04536102]]\n"
    }
   ],
   "source": [
    "print(np.sqrt(x)) #Finding Square root function using sqrt function"
   ]
  },
  {
   "cell_type": "code",
   "execution_count": 39,
   "metadata": {
    "tags": []
   },
   "outputs": [
    {
     "output_type": "stream",
     "name": "stdout",
     "text": "[[1.60948707e+48 4.37503945e+48]\n [3.54513118e+52 9.63666567e+52]]\n"
    }
   ],
   "source": [
    "print(np.exp(x)) #Finding Exponentitation function using exp function."
   ]
  },
  {
   "cell_type": "code",
   "execution_count": 2,
   "metadata": {
    "tags": []
   },
   "outputs": [
    {
     "output_type": "stream",
     "name": "stdout",
     "text": "[[ 33.31494236  85.54234245  36.38171512  23.38583366  39.87937296]\n [ -5.93613617 -77.45315586  77.73502953   2.59140206 -68.69718203]]\n"
    }
   ],
   "source": [
    "arr = 50 * np.random.randn(2,5) #Generating random elements as an array\n",
    "print(arr)"
   ]
  },
  {
   "cell_type": "code",
   "execution_count": 3,
   "metadata": {
    "tags": []
   },
   "outputs": [
    {
     "output_type": "stream",
     "name": "stdout",
     "text": "14.674416408141548\n"
    }
   ],
   "source": [
    "print(arr.mean()) "
   ]
  },
  {
   "cell_type": "code",
   "execution_count": 4,
   "metadata": {
    "tags": []
   },
   "outputs": [
    {
     "output_type": "stream",
     "name": "stdout",
     "text": "[ 43.70084131 -14.35200849]\n"
    }
   ],
   "source": [
    "print(arr.mean(axis = 1))#Axis = 1 will represent the mean according to row-wise."
   ]
  },
  {
   "cell_type": "code",
   "execution_count": 5,
   "metadata": {
    "tags": []
   },
   "outputs": [
    {
     "output_type": "stream",
     "name": "stdout",
     "text": "[ 13.68940309   4.04459329  57.05837233  12.98861786 -14.40890453]\n"
    }
   ],
   "source": [
    "print(arr.mean(axis = 0)) #Axis = 0 will represent the mean according to column-wise."
   ]
  },
  {
   "cell_type": "code",
   "execution_count": 56,
   "metadata": {
    "tags": []
   },
   "outputs": [
    {
     "output_type": "stream",
     "name": "stdout",
     "text": "1.8078559282229874\n"
    }
   ],
   "source": [
    "print(arr.sum()) #Sum of whole array  elements"
   ]
  },
  {
   "cell_type": "code",
   "execution_count": 51,
   "metadata": {
    "tags": []
   },
   "outputs": [
    {
     "output_type": "stream",
     "name": "stdout",
     "text": "[-2.13067186  0.69980634 -0.55394348  1.45564394 -0.08612036  0.46065355\n -0.53507479  0.03270211 -0.38523982 -0.24801222]\n"
    }
   ],
   "source": [
    "unsorted = np.random.randn(10)\n",
    "print(unsorted)"
   ]
  },
  {
   "cell_type": "code",
   "execution_count": 53,
   "metadata": {
    "tags": []
   },
   "outputs": [
    {
     "output_type": "stream",
     "name": "stdout",
     "text": "[-2.13067186 -0.55394348 -0.53507479 -0.38523982 -0.24801222 -0.08612036\n  0.03270211  0.46065355  0.69980634  1.45564394]\n"
    }
   ],
   "source": [
    "sorted = np.array(unsorted)\n",
    "sorted.sort() #Using sort function.\n",
    "print(sorted)"
   ]
  },
  {
   "cell_type": "code",
   "execution_count": 55,
   "metadata": {
    "tags": []
   },
   "outputs": [
    {
     "output_type": "stream",
     "name": "stdout",
     "text": "[-2.13067186 -0.55394348 -0.53507479 -0.38523982 -0.24801222 -0.08612036\n  0.03270211  0.46065355  0.69980634  1.45564394]\n"
    }
   ],
   "source": [
    "unsorted.sort()\n",
    "print(unsorted)"
   ]
  },
  {
   "cell_type": "code",
   "execution_count": 59,
   "metadata": {
    "tags": []
   },
   "outputs": [
    {
     "output_type": "stream",
     "name": "stdout",
     "text": "[1 2 3 9]\n"
    }
   ],
   "source": [
    "car = np.array([1,3,1,2,9,3,9])\n",
    "print(np.unique(car))#Finding Unique element"
   ]
  },
  {
   "cell_type": "code",
   "execution_count": 64,
   "metadata": {
    "tags": []
   },
   "outputs": [
    {
     "output_type": "stream",
     "name": "stdout",
     "text": "['desk' 'chair' 'bulb']\n['lamp' 'bulb' 'chair']\n"
    }
   ],
   "source": [
    "s1 = np.array(['desk','chair','bulb'])\n",
    "s2 = np.array(['lamp','bulb','chair'])\n",
    "print(s1)\n",
    "print(s2)#Declaring a set of strings in s1 array"
   ]
  },
  {
   "cell_type": "code",
   "execution_count": 65,
   "metadata": {
    "tags": []
   },
   "outputs": [
    {
     "output_type": "stream",
     "name": "stdout",
     "text": "['bulb' 'chair']\n"
    }
   ],
   "source": [
    "print(np.intersect1d(s1,s2)) #Intersection of two arrays using intersect1d"
   ]
  },
  {
   "cell_type": "code",
   "execution_count": 66,
   "metadata": {
    "tags": []
   },
   "outputs": [
    {
     "output_type": "stream",
     "name": "stdout",
     "text": "['bulb' 'chair' 'desk' 'lamp']\n"
    }
   ],
   "source": [
    "print(np.union1d(s1,s2)) #Union of two arrays using union1d"
   ]
  },
  {
   "cell_type": "code",
   "execution_count": 67,
   "metadata": {
    "tags": []
   },
   "outputs": [
    {
     "output_type": "stream",
     "name": "stdout",
     "text": "['desk']\n"
    }
   ],
   "source": [
    "print(np.setdiff1d(s1,s2)) #Setdifference of two arrays using setdiff1d"
   ]
  },
  {
   "cell_type": "code",
   "execution_count": 68,
   "metadata": {
    "tags": []
   },
   "outputs": [
    {
     "output_type": "stream",
     "name": "stdout",
     "text": "[False  True  True]\n"
    }
   ],
   "source": [
    "print(np.in1d(s1,s2)) #To check whether the elememnt in s1 is found in s2."
   ]
  },
  {
   "cell_type": "code",
   "execution_count": 8,
   "metadata": {},
   "outputs": [],
   "source": [
    "start = np.zeros((3,3))"
   ]
  },
  {
   "cell_type": "code",
   "execution_count": 9,
   "metadata": {
    "tags": []
   },
   "outputs": [
    {
     "output_type": "stream",
     "name": "stdout",
     "text": "[[0. 0. 0.]\n [0. 0. 0.]\n [0. 0. 0.]]\n"
    }
   ],
   "source": [
    "print(start)"
   ]
  },
  {
   "cell_type": "code",
   "execution_count": 10,
   "metadata": {
    "tags": []
   },
   "outputs": [
    {
     "output_type": "stream",
     "name": "stdout",
     "text": "[1, 2, 3]\n"
    }
   ],
   "source": [
    "add = [1,2,3]\n",
    "print(add)"
   ]
  },
  {
   "cell_type": "code",
   "execution_count": 12,
   "metadata": {
    "tags": []
   },
   "outputs": [
    {
     "output_type": "stream",
     "name": "stdout",
     "text": "[[1. 2. 3.]\n [1. 2. 3.]\n [1. 2. 3.]]\n"
    }
   ],
   "source": [
    "y = start + add\n",
    "print(y)"
   ]
  },
  {
   "cell_type": "code",
   "execution_count": 13,
   "metadata": {},
   "outputs": [],
   "source": [
    "add_1 = np.array([1,2,3])"
   ]
  },
  {
   "cell_type": "code",
   "execution_count": 14,
   "metadata": {
    "tags": []
   },
   "outputs": [
    {
     "output_type": "stream",
     "name": "stdout",
     "text": "[[1. 2. 3.]\n [1. 2. 3.]\n [1. 2. 3.]]\n"
    }
   ],
   "source": [
    "z = start + add_1\n",
    "print(z)"
   ]
  },
  {
   "cell_type": "code",
   "execution_count": 20,
   "metadata": {
    "tags": []
   },
   "outputs": [
    {
     "output_type": "stream",
     "name": "stdout",
     "text": "[[3]\n [4]\n [5]]\n"
    }
   ],
   "source": [
    "w = np.array([[3,4,5]])\n",
    "w = w.T\n",
    "print(w)"
   ]
  },
  {
   "cell_type": "code",
   "execution_count": 21,
   "metadata": {
    "tags": []
   },
   "outputs": [
    {
     "output_type": "stream",
     "name": "stdout",
     "text": "[[3. 3. 3.]\n [4. 4. 4.]\n [5. 5. 5.]]\n"
    }
   ],
   "source": [
    "f = start + w\n",
    "print(f)"
   ]
  },
  {
   "cell_type": "code",
   "execution_count": 25,
   "metadata": {},
   "outputs": [],
   "source": [
    "from numpy import arange\n",
    "from timeit import Timer\n",
    "\n",
    "size = 1000000\n",
    "timeits= 1000"
   ]
  },
  {
   "cell_type": "code",
   "execution_count": 26,
   "metadata": {
    "tags": []
   },
   "outputs": [
    {
     "output_type": "stream",
     "name": "stdout",
     "text": "<type 'numpy.ndarray'>\n"
    }
   ],
   "source": [
    "nd_array = arange(size)\n",
    "print(type(nd_array))"
   ]
  },
  {
   "cell_type": "code",
   "execution_count": 28,
   "metadata": {
    "tags": []
   },
   "outputs": [
    {
     "output_type": "stream",
     "name": "stdout",
     "text": "Time taken for the excecution is 0.000465 seconds\n"
    }
   ],
   "source": [
    "timer_numpy = Timer(\"nd_array.sum()\",\"from __main__ import nd_array\")\n",
    "\n",
    "print(\"Time taken for the excecution is %f seconds\" %(timer_numpy.timeit(timeits)/timeits))"
   ]
  },
  {
   "cell_type": "code",
   "execution_count": 29,
   "metadata": {
    "tags": []
   },
   "outputs": [
    {
     "output_type": "stream",
     "name": "stdout",
     "text": "<type 'list'>\n"
    }
   ],
   "source": [
    "a_list = list(range(size))\n",
    "print(type(a_list))"
   ]
  },
  {
   "cell_type": "code",
   "execution_count": 31,
   "metadata": {
    "tags": []
   },
   "outputs": [
    {
     "output_type": "stream",
     "name": "stdout",
     "text": "Time taken to run: 0.054287 seconds\n"
    }
   ],
   "source": [
    "timer_list = Timer(\"sum(a_list)\",\"from __main__ import a_list\")\n",
    "\n",
    "print(\"Time taken to run: %f seconds\" %(timer_list.timeit(timeits)/timeits))"
   ]
  },
  {
   "cell_type": "code",
   "execution_count": 32,
   "metadata": {},
   "outputs": [],
   "source": [
    "x = np.array([15.15, 20.20])"
   ]
  },
  {
   "cell_type": "code",
   "execution_count": 33,
   "metadata": {},
   "outputs": [],
   "source": [
    "np.save('vijay',x)   #Writing to the disk"
   ]
  },
  {
   "cell_type": "code",
   "execution_count": 34,
   "metadata": {},
   "outputs": [
    {
     "output_type": "execute_result",
     "data": {
      "text/plain": "array([15.15, 20.2 ])"
     },
     "metadata": {},
     "execution_count": 34
    }
   ],
   "source": [
    "np.load('vijay.npy')    #loading from the disk"
   ]
  },
  {
   "cell_type": "code",
   "execution_count": 35,
   "metadata": {},
   "outputs": [],
   "source": [
    "np.savetxt('array.txt',X=x,delimiter=',')"
   ]
  },
  {
   "cell_type": "code",
   "execution_count": 36,
   "metadata": {},
   "outputs": [
    {
     "output_type": "execute_result",
     "data": {
      "text/plain": "array([15.15, 20.2 ])"
     },
     "metadata": {},
     "execution_count": 36
    }
   ],
   "source": [
    "np.loadtxt('array.txt',delimiter = ',')"
   ]
  },
  {
   "cell_type": "code",
   "execution_count": 37,
   "metadata": {},
   "outputs": [],
   "source": [
    "x2d = np.array([[1,1],[1,1]])\n",
    "y2d = np.array([[2,2],[2,2]])"
   ]
  },
  {
   "cell_type": "code",
   "execution_count": 39,
   "metadata": {
    "tags": []
   },
   "outputs": [
    {
     "output_type": "stream",
     "name": "stdout",
     "text": "[[4 4]\n [4 4]]\n"
    }
   ],
   "source": [
    "print(x2d.dot(y2d)) #Multiplication of two matrices"
   ]
  },
  {
   "cell_type": "code",
   "execution_count": 40,
   "metadata": {
    "tags": []
   },
   "outputs": [
    {
     "output_type": "stream",
     "name": "stdout",
     "text": "[[4 4]\n [4 4]]\n"
    }
   ],
   "source": [
    "print(np.dot(x2d,y2d))"
   ]
  },
  {
   "cell_type": "code",
   "execution_count": 41,
   "metadata": {
    "tags": []
   },
   "outputs": [
    {
     "output_type": "stream",
     "name": "stdout",
     "text": "180\n"
    }
   ],
   "source": [
    "a1d = np.array([9,9])\n",
    "a2d = np.array([10,10])\n",
    "print(a1d.dot(a2d)) # Multiplication of two vectors."
   ]
  },
  {
   "cell_type": "code",
   "execution_count": 42,
   "metadata": {
    "tags": []
   },
   "outputs": [
    {
     "output_type": "stream",
     "name": "stdout",
     "text": "66\n"
    }
   ],
   "source": [
    "ex1 = np.array([[11,12],[21,22]])\n",
    "\n",
    "print(np.sum(ex1))"
   ]
  },
  {
   "cell_type": "code",
   "execution_count": 44,
   "metadata": {
    "tags": []
   },
   "outputs": [
    {
     "output_type": "stream",
     "name": "stdout",
     "text": "[23 43]\n"
    }
   ],
   "source": [
    "print(np.sum(ex1, axis = 1))  # Sum value according to row-wise"
   ]
  },
  {
   "cell_type": "code",
   "execution_count": 45,
   "metadata": {
    "tags": []
   },
   "outputs": [
    {
     "output_type": "stream",
     "name": "stdout",
     "text": "[32 34]\n"
    }
   ],
   "source": [
    "print(np.sum(ex1, axis = 0))   # Sum value according to column-wise"
   ]
  },
  {
   "cell_type": "code",
   "execution_count": 48,
   "metadata": {},
   "outputs": [
    {
     "output_type": "execute_result",
     "data": {
      "text/plain": "array([-0.39935936, -0.46563433,  0.2551324 , -0.70333377, -0.82480608,\n       -0.97137023,  0.00183971, -1.46745479])"
     },
     "metadata": {},
     "execution_count": 48
    }
   ],
   "source": [
    "v = np.random.randn(8)\n",
    "v"
   ]
  },
  {
   "cell_type": "code",
   "execution_count": 49,
   "metadata": {},
   "outputs": [
    {
     "output_type": "execute_result",
     "data": {
      "text/plain": "array([-1.00916306,  1.386776  ,  0.44082901,  1.00848415, -1.18752773,\n        0.95825295,  0.38333901, -0.14370418])"
     },
     "metadata": {},
     "execution_count": 49
    }
   ],
   "source": [
    "y = np.random.randn(8)\n",
    "y"
   ]
  },
  {
   "cell_type": "code",
   "execution_count": 50,
   "metadata": {},
   "outputs": [
    {
     "output_type": "execute_result",
     "data": {
      "text/plain": "array([-0.39935936,  1.386776  ,  0.44082901,  1.00848415, -0.82480608,\n        0.95825295,  0.38333901, -0.14370418])"
     },
     "metadata": {},
     "execution_count": 50
    }
   ],
   "source": [
    "np.maximum(v,y) # Returns the maximum element between two arrays."
   ]
  },
  {
   "cell_type": "code",
   "execution_count": 53,
   "metadata": {
    "tags": []
   },
   "outputs": [
    {
     "output_type": "stream",
     "name": "stdout",
     "text": "[ 0  1  2  3  4  5  6  7  8  9 10 11 12 13 14 15 16 17 18 19]\n"
    }
   ],
   "source": [
    "arr = np.arange(20)\n",
    "print(arr)"
   ]
  },
  {
   "cell_type": "code",
   "execution_count": 56,
   "metadata": {},
   "outputs": [
    {
     "output_type": "execute_result",
     "data": {
      "text/plain": "array([[ 0,  1],\n       [ 2,  3],\n       [ 4,  5],\n       [ 6,  7],\n       [ 8,  9],\n       [10, 11],\n       [12, 13],\n       [14, 15],\n       [16, 17],\n       [18, 19]])"
     },
     "metadata": {},
     "execution_count": 56
    }
   ],
   "source": [
    "arr.reshape(10,2)  # Reshaping the matrix"
   ]
  },
  {
   "cell_type": "code",
   "execution_count": 59,
   "metadata": {},
   "outputs": [
    {
     "output_type": "execute_result",
     "data": {
      "text/plain": "array([[ 2, 35],\n       [33, 23]])"
     },
     "metadata": {},
     "execution_count": 59
    }
   ],
   "source": [
    "k = np.random.randint(low = 2, high = 50, size=(2,2))\n",
    "k"
   ]
  },
  {
   "cell_type": "code",
   "execution_count": 70,
   "metadata": {},
   "outputs": [
    {
     "output_type": "execute_result",
     "data": {
      "text/plain": "array([[48, 18],\n       [22, 31]])"
     },
     "metadata": {},
     "execution_count": 70
    }
   ],
   "source": [
    "s = np.random.randint(low = 2, high = 50, size=(2,2))\n",
    "s"
   ]
  },
  {
   "cell_type": "code",
   "execution_count": 63,
   "metadata": {},
   "outputs": [
    {
     "output_type": "execute_result",
     "data": {
      "text/plain": "array([[ 2, 35],\n       [33, 23],\n       [13, 22],\n       [24,  5]])"
     },
     "metadata": {},
     "execution_count": 63
    }
   ],
   "source": [
    "np.vstack((k,s)) #Adding Vetically"
   ]
  },
  {
   "cell_type": "code",
   "execution_count": 65,
   "metadata": {},
   "outputs": [
    {
     "output_type": "execute_result",
     "data": {
      "text/plain": "array([[ 2, 35, 13, 22],\n       [33, 23, 24,  5]])"
     },
     "metadata": {},
     "execution_count": 65
    }
   ],
   "source": [
    "np.hstack((k,s))   #Adding Horizontally"
   ]
  },
  {
   "cell_type": "code",
   "execution_count": 66,
   "metadata": {},
   "outputs": [
    {
     "output_type": "execute_result",
     "data": {
      "text/plain": "array([[ 2, 35],\n       [33, 23],\n       [13, 22],\n       [24,  5]])"
     },
     "metadata": {},
     "execution_count": 66
    }
   ],
   "source": [
    "np.concatenate([k,s],axis = 0) #Concatenate vertically"
   ]
  },
  {
   "cell_type": "code",
   "execution_count": 67,
   "metadata": {},
   "outputs": [
    {
     "output_type": "execute_result",
     "data": {
      "text/plain": "array([[ 2, 35, 13, 22],\n       [33, 23, 24,  5]])"
     },
     "metadata": {},
     "execution_count": 67
    }
   ],
   "source": [
    "np.concatenate([k,s], axis = 1) #Concatenate Horoi"
   ]
  },
  {
   "cell_type": "code",
   "execution_count": 71,
   "metadata": {},
   "outputs": [],
   "source": [
    "x1 = np.array([1,2,3,4,5])\n",
    "\n",
    "x2 = np.array([11,12,33,44,55])\n",
    "\n",
    "filter = np.array([True, False, True, False, True])"
   ]
  },
  {
   "cell_type": "code",
   "execution_count": 74,
   "metadata": {},
   "outputs": [
    {
     "output_type": "execute_result",
     "data": {
      "text/plain": "array([ 1, 12,  3, 44,  5])"
     },
     "metadata": {},
     "execution_count": 74
    }
   ],
   "source": [
    "out = np.where(filter,x1,x2)\n",
    "out"
   ]
  },
  {
   "cell_type": "code",
   "execution_count": 76,
   "metadata": {},
   "outputs": [
    {
     "output_type": "execute_result",
     "data": {
      "text/plain": "array([[0.1770274 , 0.40427489, 0.68956558, 0.18542503, 0.84459986],\n       [0.03234281, 0.14074836, 0.80053447, 0.05356585, 0.84595711],\n       [0.30416718, 0.37282314, 0.79624381, 0.06792497, 0.09531109],\n       [0.12232095, 0.39843979, 0.34725967, 0.10362128, 0.56750463],\n       [0.82837196, 0.27019559, 0.26562241, 0.9394277 , 0.63527264]])"
     },
     "metadata": {},
     "execution_count": 76
    }
   ],
   "source": [
    "mat = np.random.rand(5,5)\n",
    "mat"
   ]
  },
  {
   "cell_type": "code",
   "execution_count": 78,
   "metadata": {},
   "outputs": [
    {
     "output_type": "execute_result",
     "data": {
      "text/plain": "array([[  -1, 1001, 1001,   -1, 1001],\n       [  -1,   -1, 1001,   -1, 1001],\n       [  -1,   -1, 1001,   -1,   -1],\n       [  -1,   -1,   -1,   -1, 1001],\n       [1001,   -1,   -1, 1001, 1001]])"
     },
     "metadata": {},
     "execution_count": 78
    }
   ],
   "source": [
    "np.where(mat > 0.4, 1001, -1)"
   ]
  },
  {
   "cell_type": "code",
   "execution_count": 85,
   "metadata": {
    "tags": []
   },
   "outputs": [
    {
     "output_type": "stream",
     "name": "stdout",
     "text": "[-0.9566346   0.76902049 -0.47730528  2.52375656  0.45231257]\n"
    }
   ],
   "source": [
    "y = np.random.normal(size = (1,5))[0]\n",
    "print(y)"
   ]
  },
  {
   "cell_type": "code",
   "execution_count": 89,
   "metadata": {},
   "outputs": [
    {
     "output_type": "execute_result",
     "data": {
      "text/plain": "array([ 6, 16, 13, 28])"
     },
     "metadata": {},
     "execution_count": 89
    }
   ],
   "source": [
    "z = np.random.randint(low = 2, high = 50, size = 4)\n",
    "z"
   ]
  },
  {
   "cell_type": "code",
   "execution_count": 90,
   "metadata": {},
   "outputs": [
    {
     "output_type": "execute_result",
     "data": {
      "text/plain": "array([13,  6, 16, 28])"
     },
     "metadata": {},
     "execution_count": 90
    }
   ],
   "source": [
    "np.random.permutation(z) #Return a new ordering of elements in z"
   ]
  },
  {
   "cell_type": "code",
   "execution_count": 91,
   "metadata": {},
   "outputs": [
    {
     "output_type": "execute_result",
     "data": {
      "text/plain": "array([0.0033189 , 0.20314153, 0.86030637, 0.51871157])"
     },
     "metadata": {},
     "execution_count": 91
    }
   ],
   "source": [
    "np.random.uniform(size = 4)"
   ]
  },
  {
   "cell_type": "code",
   "execution_count": 92,
   "metadata": {},
   "outputs": [
    {
     "output_type": "execute_result",
     "data": {
      "text/plain": "array([-0.06441547, -2.33452418,  0.05275814, -0.621286  ])"
     },
     "metadata": {},
     "execution_count": 92
    }
   ],
   "source": [
    "np.random.normal(size = 4)"
   ]
  },
  {
   "cell_type": "code",
   "execution_count": 93,
   "metadata": {},
   "outputs": [],
   "source": [
    "l = [1,2,3]\n",
    "x1 = np.array(l)"
   ]
  },
  {
   "cell_type": "code",
   "execution_count": 94,
   "metadata": {
    "tags": []
   },
   "outputs": [
    {
     "output_type": "stream",
     "name": "stdout",
     "text": "(<type 'numpy.ndarray'>, array([1, 2, 3]))\n"
    }
   ],
   "source": [
    "print(type(x1),x1)"
   ]
  },
  {
   "cell_type": "code",
   "execution_count": 102,
   "metadata": {
    "tags": []
   },
   "outputs": [
    {
     "output_type": "stream",
     "name": "stdout",
     "text": "('Dimensionality of the array :', 1)\n"
    }
   ],
   "source": [
    "print(\"Dimensionality of the array :\",x1.ndim)  #Dimensionality is given by ndim"
   ]
  },
  {
   "cell_type": "code",
   "execution_count": 110,
   "metadata": {
    "tags": []
   },
   "outputs": [
    {
     "output_type": "stream",
     "name": "stdout",
     "text": "[[2]\n [5]\n [8]]\n[[1 3 6]]\n"
    }
   ],
   "source": [
    "x1 = np.array([[2],[5],[8]])\n",
    "x2 = np.array([[1,3,6]])\n",
    "print(x1)\n",
    "print(x2)"
   ]
  },
  {
   "cell_type": "code",
   "execution_count": 112,
   "metadata": {
    "tags": []
   },
   "outputs": [
    {
     "output_type": "stream",
     "name": "stdout",
     "text": "[[ 2  6 12]\n [ 5 15 30]\n [ 8 24 48]]\n"
    }
   ],
   "source": [
    "print(np.dot(x1,x2))"
   ]
  },
  {
   "cell_type": "code",
   "execution_count": 117,
   "metadata": {},
   "outputs": [
    {
     "output_type": "execute_result",
     "data": {
      "text/plain": "array([[ 30,  24,  18],\n       [ 84,  69,  54],\n       [138, 114,  90]])"
     },
     "metadata": {},
     "execution_count": 117
    }
   ],
   "source": [
    "m1 = np.array([[1,2,3],[4,5,6],[7,8,9]])\n",
    "m2 = np.array([[9,8,7],[6,5,4],[3,2,1]])\n",
    "np.dot(m1,m2)"
   ]
  },
  {
   "cell_type": "code",
   "execution_count": null,
   "metadata": {},
   "outputs": [],
   "source": []
  }
 ],
 "metadata": {
  "language_info": {
   "codemirror_mode": {
    "name": "ipython",
    "version": 3
   },
   "file_extension": ".py",
   "mimetype": "text/x-python",
   "name": "python",
   "nbconvert_exporter": "python",
   "pygments_lexer": "ipython3",
   "version": "3.8.3-final"
  },
  "orig_nbformat": 2,
  "kernelspec": {
   "name": "python2",
   "display_name": "Python 2"
  }
 },
 "nbformat": 4,
 "nbformat_minor": 2
}